{
 "cells": [
  {
   "cell_type": "markdown",
   "id": "first-funds",
   "metadata": {},
   "source": [
    "# NETFLIX MOVIE RATE PREDICTION USING GAUSSIAN MIXTURES "
   ]
  },
  {
   "cell_type": "markdown",
   "id": "coastal-underground",
   "metadata": {},
   "source": [
    "# MOTIVATION: \n",
    "* The input is ratings by $n$ users of $d$ movies. However, the data is incomplete in the sense that each movie has not been rated by every user although we assume that each movie has been rated by at least one user. Our task is to fill in the missing ratings. In this case we will use an EM algorithm applied to a Gaussian mixture.\n",
    "* <span style='color:blue'>The present notebook contains exclussively the parts of the code that I developed for the fulfillment of the project. Functions to upload and prepare the data were pre-programmed by the organizers of the course and provided to us.</span> "
   ]
  },
  {
   "cell_type": "markdown",
   "id": "macro-black",
   "metadata": {},
   "source": [
    "# PREAMBLE: \n",
    "\n",
    "* ## The input will be denoted as $X$, which is a $(n,d)$ array and the $i$-th row, $X[i,:]$ is the rating made by the $i$-th user. The missing ratings are in our case set to $0$.  "
   ]
  },
  {
   "cell_type": "markdown",
   "id": "outer-prevention",
   "metadata": {},
   "source": [
    "---\n",
    "# DEFINING THE GAUSSIAN MIXTURE:\n",
    "We will assume that, as far as the rating is concerned, the $n$ users may be divide into $K$ clusters. Each cluster has a probability $p_j$ to occur  and within each cluster, say the $j$-th cluster, we will assume that the probability for a user to provide the rating $x=(x_1,\\cdots,x_d)$ follows a Gaussian distribution with mean $\\mu_j\\in\\mathbb R^d$ and variance $\\sigma_j\\in\\mathbb R$, that is: \n",
    "## $$p(x|j) = \\frac{1}{\\sqrt[d]{2\\pi \\sigma_j^2}}\\, e^{-\\frac{\\parallel x-\\mu_j\\parallel^2}{2 \\sigma_j^2}}=:\\mathcal N\\left(x;\\mu_j,\\sigma_j\\right)$$\n",
    "where $p(x|j)$ is the conditional probability for having the rating $x$ given that we know it comes from the $j$-th cluster. Thus, the probability for having the rating $x$, disregarding from which cluster that rating has been made, is \n",
    "## $$p(x)=\\sum_{j= 1}^K p(x|j)\\,p_j = \\sum_{j=1}^K p_j \\mathcal N\\left(x;\\mu_j,\\sigma_j\\right)$$"
   ]
  },
  {
   "cell_type": "markdown",
   "id": "shared-alias",
   "metadata": {},
   "source": [
    "# POSTERIOR PROBABILITY:\n",
    "Using the Bayes's rule we find that \n",
    "## $$p(j|x) = \\frac{p(x|j)\\,p_j}{p(x)}$$ \n",
    "where $p(j|x)$ is the probability that the rating $x$ has been made by an user from the $j$-th cluster. "
   ]
  },
  {
   "cell_type": "markdown",
   "id": "adjusted-paint",
   "metadata": {},
   "source": [
    "# OPTIMIZATION:\n",
    "Given a set of ratings $S=\\left\\{x^{(1)},\\cdots,x^{(n)}\\right\\}$ (possibly with missing data), the probability for obtaining the whole set, called the likelihood, is \n",
    "## $$ p(S)= \\prod_{i=1}^n p\\left(x^{(i)}\\right)$$ \n",
    "where $p\\left(x^{(i)}\\right) = \\sum_j p_j \\mathcal N\\left(x^{(i)}_{c_i};\\mu_{j,c_i},\\sigma_j\\right)$ and $x^{(i)}_{c_i}$ and $\\mu_{j,c_i}$ contain only the  components where $x^{(i)}$ has not missing data. \n",
    "Our goal is to find the parameters $\\mu_j$, $\\sigma_j$ and $p_j$ that maximize the likelihood $p(S)$ \n",
    "or equivalently, \n",
    "## $$\\ln p(S) = \\sum_{i=1}^n \\ln p\\left(x^{(i)}\\right)$$\n",
    "Maximizing this function is a very hard task given the complicated dependence on its parameters. "
   ]
  },
  {
   "cell_type": "markdown",
   "id": "psychological-client",
   "metadata": {},
   "source": [
    "## MAXIMIZING A LOWER BOUND OF $\\ln p(S)$:\n",
    "Instead, we will maximize a lower bound of $\\ln p(S)$.  By doing so, we make sure to push upwards the true likelihood.  \n",
    "A lower bound of $\\ln P(S)$:\n",
    "The so-called Jensen's inequality states that for non-negative $q_1,\\cdots,q_n$ and $y_1,\\cdots,y_n$ with $\\sum_a q_a = 1$ it holds that \n",
    "## $$\\sum_a q_a \\ln y_a\\leq \\ln\\left(\\sum_a q_a y_a\\right)$$\n",
    "For fixed $i$, let $p(j|i):= p\\left(j|x^{(i)}\\right)$, that is: the probability that the cluster is the $j$-th one, given the rating $x^{(i)}$. Then, taking $y_j := \\frac{p_j\\,\\mathcal N\\left(x^{(i)}_{c_i};\\mu_{j,c_i},\\sigma_j\\right)}{p(j|i)}$ and $q_j := p(j|i)$ the Jensen's inequality states that \n",
    "## $$\\sum_{j=1}^K p(j|i) \\ln \\frac{p_j\\,\\mathcal N\\left(x^{(i)}_{c_i};\\mu_{j,c_i},\\sigma_j\\right)}{p(j|i)} \\leq \\ln\\left(\\sum_{j=1}^K p_j\\,\\mathcal N\\left(x^{(i)}_{c_i};\\mu_{j,c_i},\\sigma_j\\right)\\right) = \\ln p\\left( x^{(i)}\\right)$$ \n",
    "Thus, \n",
    "## $$\\hat l := \\sum_{i=1}^n\\sum_{j=1}^K p(j|i) \\ln \\frac{p_j\\,\\mathcal N\\left(x^{(i)}_{c_i};\\mu_{j,c_i},\\sigma_j\\right)}{p(j|i)} \\leq \\ln P(S)$$ \n",
    "It turns out that maximizing the lower bound $\\hat l$ is much simpler, at least to find a local maximum for it.  "
   ]
  },
  {
   "cell_type": "markdown",
   "id": "broad-thumb",
   "metadata": {},
   "source": [
    "---\n",
    "# THE EM ALGORITHM (for maximizing the lower bound $\\hat l$):\n",
    "The EM algorithm guarantees convergence to a local maximum. It is defined as follows:\n",
    "\n",
    "* **Step 0**: Randomly initialize the parameters $\\mu_j$, $\\sigma_j$ and $p_j$\n",
    "Then iterate the following two steps until convergence:\n",
    "\n",
    "* **E-step:** set $p(j|i)$ as \n",
    "\n",
    "## $$p(j|i):= \\frac{p_j \\mathcal N\\left(x^{(i)}_{c_i};\\mu_{j,c_i},\\sigma_j\\right)}{\\sum_{l=1}^K p_l \\mathcal N\\left(x^{(i)}_{c_i};\\mu_{l,c_i},\\sigma_l\\right)}$$ \n",
    "    \n",
    "    (Note that this is the posterior probability corresponding to the current parameters $(\\mu_j,\\sigma_j,p_j)$. This expression also follows from the vanishing of the gradient of $\\hat l$ with respect to $p(j|i)$, subject to the constratint $\\sum_{j=1}^K p(j|i)=1$.)\n",
    "    \n",
    "* **M-step**: do the following updates: \n",
    "\n",
    "## $$ p_j \\leftarrow \\frac{1}{n} \\sum_{i=1}^n p(j|i)$$\n",
    "## $$\\left(\\mu_j\\right)_l \\leftarrow \\frac{1}{\\sum_{i'=1}^n \\delta_{l,c_{i'}} p(j|i')} \\sum_{i=1}^n p(j|i)\\delta_{l,c_i}\\left(x^{(i)}\\right)_l$$\n",
    "##  $$\\sigma_j^2 \\leftarrow \\frac{\\sum_{i= 1}^n p(j|i) \\parallel x^{(i)}_{c_i}-\\mu_{j,c_i}\\parallel^2}{\\sum_{i'=1}^n p(j|i') \\,| c_{i'}|}$$                                                   \n",
    "\n",
    "Where $()_l$ denotes the $l$-th  component, $\\delta_{l,c_i}$ is $1$ if the $l$-th component is not missing, $0$ otherwise, and $|c_i|$ denotes the number of not missing components for the rating $x^{(i)}$.\n",
    "(These updates follow from the vanishing of the gradient of $\\hat l$ with respect to $(\\mu_j,\\sigma_j,p_j)$.)"
   ]
  },
  {
   "cell_type": "markdown",
   "id": "historical-growth",
   "metadata": {},
   "source": [
    "# PREDICTING THE MISSING DATA"
   ]
  },
  {
   "cell_type": "markdown",
   "id": "outside-adolescent",
   "metadata": {},
   "source": [
    "Once we have optimized the mixture parameters $(\\mu_j,\\sigma_j,p_j)$, we may compute the missing data as the weighted average of the means $\\mu_j$ according to the posterior probability. \n",
    "\n",
    "More precisely, suppose that the $i$-th user has not rated the $m$-th movie. Since the probability for the $i$-th user to belong to the $j$-th cluster is $p(j|i)$ and the mean \"rating\" corresponding to that cluster is $\\mu_j$, we may estimate the missing rate as \n",
    "\n",
    "## $$\\hat x_{im} = \\sum_{j= 1}^K p(j|i) \\, \\left(\\mu_j\\right)_m$$\n",
    "\n",
    "where $\\left(\\mu_j\\right)_m$ denotes the $m$-th component of $\\mu_j$."
   ]
  },
  {
   "cell_type": "markdown",
   "id": "handmade-neutral",
   "metadata": {},
   "source": [
    "---\n",
    "# EM ALGORITHM"
   ]
  },
  {
   "cell_type": "markdown",
   "id": "comic-providence",
   "metadata": {},
   "source": [
    "## Initialize the parameters\n",
    "A similar version of this function was provided to us by the course organizers. I have modified it to adapt it to the present notebook."
   ]
  },
  {
   "cell_type": "code",
   "execution_count": 4,
   "id": "promising-baking",
   "metadata": {},
   "outputs": [],
   "source": [
    "def initial_param(X,K=10,seed=0):\n",
    "    \"\"\"\n",
    "    Initializes the Gaussain mixture parameters\n",
    "    \n",
    "    Args:\n",
    "        X : (n , d) array containing the data\n",
    "        K : int, number of Gaussian clusters\n",
    "        seed : int, seed for the random generation, default : 0\n",
    "    \n",
    "    Returns:\n",
    "        mixture : tuple (mu,var,p) -- initial mixture parameters -- \n",
    "    \"\"\"\n",
    "    \n",
    "    np.random.seed(seed)\n",
    "    n,_ = X.shape\n",
    "    p = np.ones(K)/K\n",
    "    \n",
    "    # select K random points as initial means\n",
    "    mu = X[np.random.choice(n,K,replace=False)]\n",
    "    # computing variances\n",
    "    var = np.zeros(K)\n",
    "    for j in range(K):\n",
    "        var[j]=((X-mu[j])**2).mean() \n",
    "    \n",
    "    return GaussianMixture(mu,var,p)\n",
    "\"\"\"\n",
    "The function GaussianMixture generates the tuple (mu,var,p) and was provided for us∫ \n",
    "\"\"\""
   ]
  },
  {
   "cell_type": "markdown",
   "id": "least-strip",
   "metadata": {},
   "source": [
    "## E-step  "
   ]
  },
  {
   "cell_type": "code",
   "execution_count": 5,
   "id": "dedicated-civilian",
   "metadata": {},
   "outputs": [],
   "source": [
    "def estep(X,mixture):\n",
    "    \"\"\"\n",
    "    Estimates the posterior probability\n",
    "    \n",
    "    Args:\n",
    "        X : (n, d) np.array containing the ratings\n",
    "        mixture : GaussianMixture(mu,var,p) -- current mixture parameters --\n",
    "    Returns: \n",
    "        post : (n , K) np.array containing the posterior probabilities : \n",
    "                       post[i,j] = p(j|i)\n",
    "        logl : float, the log-likelihood -- ln(p(S)) -- for X, given the current parameters\n",
    "    \"\"\"\n",
    "    \n",
    "    mu = mixture.mu # (K , d) np.array\n",
    "    var = mixture.var # (K, ) np.array\n",
    "    p = mixture.p # (K, ) np.array\n",
    "    \n",
    "    n = X.shape[0]\n",
    "    K = mu.shape[0]\n",
    "    \n",
    "    post = np.zeros((n,K))\n",
    "    logl = 0\n",
    "    for i in range(n):\n",
    "        C_i = X[i,:] != 0 # not missing components\n",
    "        d_i = np.sum(C_i)\n",
    "        # argument of the Gaussian \n",
    "        exp_arg = ((np.tile(X[i,C_i],(K,1))-mu[:,C_i])**2).sum(axis=1)\n",
    "        exp_arg = exp_arg/(2*var)\n",
    "        # log(N(x;mu,var))\n",
    "        \"\"\"\n",
    "        To avoid log(0) evaluations, we add a very small number to p\n",
    "        \"\"\"\n",
    "        logN_i = np.log(p+10**(-16)) - d_i*np.log(2*np.pi*var)/2 - exp_arg \n",
    "        logN_max_i = logN_i.max() \n",
    "        # log(post[i,:]) \n",
    "        \"\"\"\n",
    "        For numerical stability, we substract the max value of\n",
    "        logN_i. The substraction cancels out in the expression below\n",
    "        \"\"\"\n",
    "        log_posti = logN_i - logN_max_i - logsumexp(logN_i-logN_max_i)\n",
    "        # post[i,:]\n",
    "        post_i = np.exp(log_posti)\n",
    "        logl = logl + post_i @ (logN_i - log_posti)\n",
    "        post[i,:] = post_i\n",
    "    \n",
    "    return post, logl"
   ]
  },
  {
   "cell_type": "markdown",
   "id": "disabled-usage",
   "metadata": {},
   "source": [
    "## M-step"
   ]
  },
  {
   "cell_type": "code",
   "execution_count": 6,
   "id": "indoor-design",
   "metadata": {},
   "outputs": [],
   "source": [
    "def mstep(X,mixture,post,\n",
    "         min_var = 0.25):\n",
    "    \"\"\"\n",
    "    Updates the mixture parameters\n",
    "    \n",
    "    Args:\n",
    "        X : (n, d) np.array containing the ratings\n",
    "        mixture : GaussianMixture(mu,var,p) -- current mixture parameters --\n",
    "        post : (n , K) np.array containing the posterior probabilities : \n",
    "                       post[i,j] = p(j|i)\n",
    "        min_var : float, minimum variance to avoid too narrow Gaussians  \n",
    "        \n",
    "    Returns: \n",
    "        mixture : GaussMix(mu,var,p) -- updated mixture parameters --\n",
    "    \"\"\"\n",
    "    \n",
    "    n , d = X.shape \n",
    "    K = len(mixture.p)\n",
    "    p = post.sum(axis=0)/n # sum_i P(j|i)/n\n",
    "    mu = mixture.mu # (k,d)\n",
    "    var = mixture.var \n",
    "    delta = 1*(X != 0)  # (n,d)\n",
    "    for j in range(K):\n",
    "        # updating mu\n",
    "        mu_numerator = post[:,j] @ X\n",
    "        mu_denominator = post[:,j] @ delta\n",
    "        \"\"\"\n",
    "        In order to avoid updating components of mu \n",
    "        corresponding to too few ratings or very unlikely ratings \n",
    "        from the j-th cluster, \n",
    "        we demand that \\sum_i delta_{l,c_i} p(j|i) >= 1 \n",
    "        \"\"\"\n",
    "        update_indices = mu_denominator >= 1\n",
    "        mu[j,update_indices] = mu_numerator[update_indices] / mu_denominator[update_indices]\n",
    "        # updating var\n",
    "        var[j] = post[:,j] @ ((X-np.tile(mu[j,:],(n,1))*delta)**2).sum(axis=1) / mu_denominator.sum()\n",
    "        if var[j] <= min_var:\n",
    "            var[j] = min_var\n",
    "    return GaussianMixture(mu, var, p) \n",
    "    "
   ]
  },
  {
   "cell_type": "markdown",
   "id": "french-retail",
   "metadata": {},
   "source": [
    "# COMPLETEING THE RATING MATRIX"
   ]
  },
  {
   "cell_type": "code",
   "execution_count": 7,
   "id": "alleged-allah",
   "metadata": {},
   "outputs": [],
   "source": [
    "def complete_matrix(X,mixture):\n",
    "    \"\"\"\n",
    "    Completes the rating matrix\n",
    "    \n",
    "    Args:\n",
    "        X : (n, d) np.array containing the (incomplete) ratings\n",
    "        mixture : GaussMix(mu,var,p) -- optimized mixture parameters --\n",
    "    \n",
    "    Returns:\n",
    "        X : (n, d) np.array containing the complete ratings\n",
    "    \"\"\"\n",
    "    \n",
    "    p = mixture.p # (K,)\n",
    "    mu = mixture.mu # (K,d) \n",
    "    var = mixture.var # (K,)\n",
    "    n , d = X.shape \n",
    "    X_pred = np.zeros((n,d))\n",
    "    K = len(p)\n",
    "    for i in range(n):\n",
    "        C_i = X[i,:] != 0 # not missing components\n",
    "        d_i = np.sum(C_i)\n",
    "        # argument of the Gaussian \n",
    "        exp_arg = ((np.tile(X[i,C_i],(K,1))-mu[:,C_i])**2).sum(axis=1)\n",
    "        exp_arg = exp_arg/(2*var)\n",
    "        # log(N(x;mu,var))\n",
    "        \"\"\"\n",
    "        To avoid log(0) evaluations, we add a very small number to p\n",
    "        \"\"\"\n",
    "        logN_i = np.log(p+10**(-16)) - d_i*np.log(2*np.pi*var)/2 - exp_arg \n",
    "        logN_max_i = logN_i.max() \n",
    "        # log(post[i,:]) \n",
    "        \"\"\"\n",
    "        For numerical stability, we substract the max value of\n",
    "        logN_i. The substraction cancels out in the expression below\n",
    "        \"\"\"\n",
    "        log_posti = logN_i - logN_max_i - logsumexp(logN_i-logN_max_i)\n",
    "        # post[i,:]\n",
    "        post_i = np.exp(log_posti)\n",
    "        unrated_entries = np.logical_not(C_i)\n",
    "        wieghted_mu = post_i @ mu[:,unrated_entries]\n",
    "        X_pred[i,unrated_entries] = wieghted_mu\n",
    "    \n",
    "    return X+X_pred "
   ]
  },
  {
   "cell_type": "markdown",
   "id": "advisory-minneapolis",
   "metadata": {},
   "source": [
    "# CALLING THE EM ALGORITHM"
   ]
  },
  {
   "cell_type": "code",
   "execution_count": 8,
   "id": "brazilian-statement",
   "metadata": {},
   "outputs": [],
   "source": [
    "def run(X,K=10,seed=0):\n",
    "    \"\"\"\n",
    "    Runs the EM algorithm\n",
    "    \n",
    "    Args:\n",
    "        X : (n , d) array containing the data\n",
    "        K : int, number of Gaussian clusters\n",
    "        seed : int, seed for the random generation, default : 0\n",
    "    \n",
    "    Returns: \n",
    "        mixture : GaussianMixture(mu,var,p) -- optimized mixture parameters --\n",
    "        logl : list containing the log-likelihoods for all the iterations \n",
    "    \"\"\"\n",
    "    \n",
    "    # Initializing the mixture parameters\n",
    "    mixture = initial_param(X,K=K,seed=seed)\n",
    "    \n",
    "    logl_old = None\n",
    "    logl_new = None\n",
    "    \n",
    "    logl = []\n",
    "    \n",
    "    # EM algorithm\n",
    "    \n",
    "    while (logl_old is None or (logl_new-logl_old >= 10**(-6)*np.abs(logl_new))):\n",
    "        logl_old = logl_new\n",
    "        # E-step\n",
    "        post, logl_new = estep(X,mixture)\n",
    "        # M-step\n",
    "        mixture = mstep(X,mixture,post)\n",
    "        \n",
    "        if logl_new is not None:\n",
    "            logl.append(logl_new)\n",
    "    \n",
    "    return mixture, logl\n",
    "        \n",
    "        \n",
    "    "
   ]
  },
  {
   "cell_type": "markdown",
   "id": "outstanding-guard",
   "metadata": {},
   "source": [
    "## Plotting the log-likelihood of the mixture as a function of the EM algorithm iterations"
   ]
  },
  {
   "cell_type": "code",
   "execution_count": 10,
   "id": "understanding-knowing",
   "metadata": {},
   "outputs": [
    {
     "data": {
      "image/png": "[encoded data removed]",
      "text/plain": [
       "<Figure size 432x288 with 1 Axes>"
      ]
     },
     "metadata": {
      "needs_background": "light"
     },
     "output_type": "display_data"
    }
   ],
   "source": [
    "plt.rc('xtick',labelsize = 15)\n",
    "plt.rc('ytick',labelsize = 15)\n",
    "plt.plot(range(1,len(logl)+1),logl)\n",
    "plt.xlabel('iterations', fontsize = 20)\n",
    "plt.ylabel('$\\ln (\\hat l)$', fontsize = 20)\n",
    "plt.show()"
   ]
  }
 ],
 "metadata": {
  "kernelspec": {
   "display_name": "Python 3",
   "language": "python",
   "name": "python3"
  },
  "language_info": {
   "codemirror_mode": {
    "name": "ipython",
    "version": 3
   },
   "file_extension": ".py",
   "mimetype": "text/x-python",
   "name": "python",
   "nbconvert_exporter": "python",
   "pygments_lexer": "ipython3",
   "version": "3.8.3"
  }
 },
 "nbformat": 4,
 "nbformat_minor": 5
}
